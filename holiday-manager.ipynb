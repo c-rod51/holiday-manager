{
 "cells": [
  {
   "cell_type": "markdown",
   "id": "9d4285d0",
   "metadata": {},
   "source": [
    "# Holiday Manager\n",
    "\n",
    "## Pseudocode\n",
    "We are looking to create an application which manages holidays. Before we begin with the application, we will pre-load the holidays from https://www.timeanddate.com/holidays/us/2022?hol=33554809 into a JSON file along with the pre-loaded holidays already loaded in the JSON file.\n",
    "\n",
    "With the holidays approaching, the marketing person may want to know what the weather looks like so they can determine what to market more. Use a weather API (e.g. [Open Weather Map API](https://rapidapi.com/community/api/open-weather-map)) to show what the weather looks like for the current period (more in the UI explanation below).\n",
    "\n",
    "**Start Up**\n",
    "* Display welcome message/UI info\n",
    "* Display number of holidays stored in the system (e.g. JSON file)\n",
    "\n",
    "**Main Menu**\n",
    "* Display message Holiday menu\n",
    "* Allow user to choose from:\n",
    "> 1. Add a Holiday\n",
    "> 2. Remove a Holiday\n",
    "> 3. Save Holiday List\n",
    "> 4. View Holidays\n",
    "> 5. Exit\n",
    "\n",
    "**Add a Holiday**\n",
    "* Display Add a Holiday\n",
    "* Prompt the user for Holiday name and Date\n",
    "> * If date is typed incorrectly (i.e. doesn't fit into ISO 8601 YYYY-MM-DD), display error message 'Invalid date' and reprompt\n",
    "> * If date is typed correctly, display success message '... has been added to list' and add holiday to list\n",
    "\n",
    "**Remove a Holiday**\n",
    "* Display Remove a Holiday\n",
    "* Prompt user for Holiday Name\n",
    "> * If user inputs a holiday not in file, display error message 'HolidayName not found' and reprompt\n",
    "> * If user inputs holiday in file, display success message and remove from holiday list\n",
    "\n",
    "**Save Holiday List**\n",
    "* Display Save Holiday List\n",
    "* Prompt user if they want to save their changes\n",
    "> * If no, do not save and display canceled message 'Holiday list file save cancelled'\n",
    "> * If yes, save holiday list to JSON and display success message 'Changes saved'\n",
    "\n",
    "**View Holidays**\n",
    "* Display View Holidays\n",
    "* Prompt user for year\n",
    "* Prompt user for week#, leave blank if current week\n",
    "> * if week# blank, prompt user if they would like to see this week's weather\n",
    "> * Display holidays for selected week and weather (if applies) using lambda expression\n",
    "\n",
    "**Exit**\n",
    "* Display exit \n",
    "* Prompt user if they are sure they want to exit\n",
    "> * if yes, display 'Goodbye' and exit\n",
    "\n",
    "### Holidays\n",
    "We'll gather all the holidays and store in JSON.\n",
    "* Make sure to represent holidays as objects in Python\n",
    "* The List of Holidays should be represented as an object in Python\n",
    "* The holiday class should include a way to display a holiday in the following format: `HolidayName (Date)`"
   ]
  },
  {
   "cell_type": "code",
   "execution_count": 1,
   "id": "4a42f60c",
   "metadata": {},
   "outputs": [],
   "source": [
    "from datetime import datetime\n",
    "import json\n",
    "from bs4 import BeautifulSoup\n",
    "import requests\n",
    "from dataclasses import dataclass\n",
    "import inspect\n",
    "from config import jsonlocation"
   ]
  },
  {
   "cell_type": "code",
   "execution_count": 2,
   "id": "8c5cb71f",
   "metadata": {},
   "outputs": [],
   "source": [
    "##\n",
    "@dataclass\n",
    "class Holiday:\n",
    "    name: str\n",
    "    date: datetime\n",
    "        \n",
    "    def __str__ (self):\n",
    "        # String output\n",
    "        date_format = '%Y-%m-%d'\n",
    "        date_str = datetime.strftime(self.date, date_format)\n",
    "        # Holiday output when printed.\n",
    "        return '%s (%s) ' % (self.name, date_str)"
   ]
  },
  {
   "cell_type": "code",
   "execution_count": 21,
   "id": "b5fe6764",
   "metadata": {},
   "outputs": [],
   "source": [
    "# -------------------------------------------\n",
    "# The HolidayList class acts as a wrapper and container\n",
    "# For the list of holidays\n",
    "# Each method has pseudo-code instructions\n",
    "# --------------------------------------------\n",
    "class HolidayList:\n",
    "    def __init__(self):\n",
    "        self.innerHolidays = []\n",
    "   \n",
    "    def addHoliday(self, holidayObj):\n",
    "        # Make sure holidayObj is a Holiday Object by checking the type\n",
    "        if isinstance(holidayObj, Holiday):\n",
    "            # Use innerHolidays.append(holidayObj) to add holiday\n",
    "            self.innerHolidays.append(holidayObj)\n",
    "            # print to the user that you added a holiday\n",
    "            print(f'Success: {holidayObj} has been added to the holiday list.')\n",
    "        else:\n",
    "            print('Error: Please try again.')\n",
    "\n",
    "    def findHoliday(self, HolidayName, Date):\n",
    "        # Find Holiday in innerHolidays\n",
    "        found_holiday = [x for x in self.innerHolidays if x.name == HolidayName and x.date == Date]\n",
    "        # Return Holiday object\n",
    "        try:\n",
    "            found_hol_obj = found_holiday[0]\n",
    "        except IndexError:\n",
    "            found_hol_obj = None\n",
    "        return found_hol_obj\n",
    "\n",
    "    def removeHoliday(self, HolidayName, Date):\n",
    "        # Holiday has already been found in innerList using the RemoveHoliday() function\n",
    "        # remove the Holiday from innerHolidays\n",
    "        self.innerHolidays = list(filter(lambda x : x.name != HolidayName and x.date != Date, self.innerHolidays))\n",
    "        # inform user you deleted the holiday\n",
    "        print(f'''\n",
    "            Success:\n",
    "            {HolidayName} has been removed from the list.\n",
    "        ''')\n",
    "\n",
    "    def read_json(self, jsonlocation):\n",
    "        # Read in things from json file location\n",
    "        with open(jsonlocation, 'r') as f:\n",
    "            data = json.load(f)\n",
    "            f.close()\n",
    "        # Use addHoliday function to add holidays to inner list.\n",
    "        for holiday in data['holidays']:\n",
    "            holiday_name = holiday['name']\n",
    "            holidate = holiday['date']\n",
    "            date_format = '%Y-%m-%d'\n",
    "            formatted_date = datetime.strptime(holidate, date_format).date()\n",
    "            holidayobj = Holiday(holiday_name, formatted_date)\n",
    "            self.addHoliday(holidayobj)\n",
    "\n",
    "    def save_to_json(self, jsonlocation):\n",
    "        #Makee empty holiday dictionary list\n",
    "        holiday_dict_list= {\"holidays\" : []}\n",
    "        #Gather individual holiday objects from innerHoliday list and append to holiday dict list\n",
    "        for holiday in self.innerHolidays:\n",
    "            holiday_name = holiday.name\n",
    "            holidate = holiday.date\n",
    "            date_format = '%Y-%m-%d'\n",
    "            date = datetime.strftime(holidate, date_format)\n",
    "            holiday_dict = {'name': holiday_name, 'date': date}\n",
    "            holiday_dict_list['holidays'].append(holiday_dict)\n",
    "        # Write out json file to selected file.\n",
    "        with open(jsonlocation, 'w') as f:\n",
    "            json.dump(holiday_dict_list, f, sort_keys = True, indent = 4)\n",
    "            f.close()\n",
    "        \n",
    "    def scrapeHolidays():\n",
    "        pass\n",
    "        # Scrape Holidays from https://www.timeanddate.com/holidays/us/ \n",
    "        # 2 previous years, current year, and 2  years into the future.\n",
    "        # Scrape multiple years by adding year to the timeanddate URL e.g. https://www.timeanddate.com/holidays/us/2022\n",
    "        # Check to see if name and date of holiday is in innerHolidays array\n",
    "        # Add non-duplicates to innerHolidays\n",
    "        # Handle any exceptions.     \n",
    "\n",
    "    def numHolidays(self):\n",
    "        # Return the total number of holidays in innerHolidays\n",
    "        return len(self.innerHolidays)\n",
    "    \n",
    "    def filter_holidays_by_week(self, year, week_number):\n",
    "        # Use a Lambda function to filter innerHolidays by week number and year\n",
    "        filtered_hol_list = list(\n",
    "            filter(\n",
    "                lambda x : x.date.isocalendar()[1] == week_number and x.date.isocalendar()[0] == year, self.innerHolidays\n",
    "            )\n",
    "        )\n",
    "        # return your filtered holidays\n",
    "        return filtered_hol_list\n",
    "\n",
    "    def displayHolidaysInWeek(self, year, week_number):\n",
    "        # Use your filter_holidays_by_week to get list of holidays within a week as a parameter\n",
    "        filt_hol_list = self.filter_holidays_by_week(year, week_number)\n",
    "        # Output formated holidays in the week.\n",
    "        for hol in filt_hol_list:\n",
    "            print(hol)\n",
    "\n",
    "    def getWeather(weekNum):\n",
    "        pass\n",
    "        # Convert weekNum to range between two days\n",
    "        # Use Try / Except to catch problems\n",
    "        # Query API for weather in that week range\n",
    "        # Format weather information and return weather string.\n",
    "\n",
    "    def viewCurrentWeek(self):\n",
    "        # Use the Datetime Module to look up current week and year\n",
    "        current_year = datetime.now().isocalendar()[0]\n",
    "        current_week = datetime.now().isocalendar()[1]\n",
    "        # Use your filter_holidays_by_week function to get the list of holidays\n",
    "        #current_week_hol = self.innerHolidays.filter_holidays_by_week(current_year, current_week)\n",
    "        # Use your displayHolidaysInWeek function to display the holidays in the week\n",
    "        self.displayHolidaysInWeek(current_year, current_week)\n",
    "        # Ask user if they want to get the weather\n",
    "        #get_weather = str(input('Would you like to see the weather? [y/n]: ')).lower()\n",
    "        # If yes, use your getWeather function and display results\n",
    "        #if get_weather == 'y':\n",
    "        #    for hol in "
   ]
  },
  {
   "cell_type": "code",
   "execution_count": 22,
   "id": "70dda484",
   "metadata": {},
   "outputs": [],
   "source": [
    "#UI Start Up\n",
    "##\n",
    "def StartUp(holiday_list):\n",
    "    #Find number of holidays stored in system\n",
    "    num_holidays = holiday_list.numHolidays()\n",
    "    print(f'''\n",
    "        Holiday Management\n",
    "        =================================\n",
    "        There are {num_holidays} holidays stored in the system\n",
    "    ''')\n",
    "    \n",
    "    #MainMenu()"
   ]
  },
  {
   "cell_type": "code",
   "execution_count": 23,
   "id": "cfb01388",
   "metadata": {},
   "outputs": [],
   "source": [
    "#UI MainMenu\n",
    "\n",
    "def MainMenu(holiday_list):\n",
    "    print(f'''\n",
    "        Holiday Menu\n",
    "        =====================================\n",
    "    ''')\n",
    "    #Store user selection from Main Menu\n",
    "    user_selection = int(input('''\n",
    "        1. Add a Holiday\n",
    "        2. Remove a Holiday\n",
    "        3. Save Holiday List\n",
    "        4. View Holidays\n",
    "        5. Exit\n",
    "    '''))\n",
    "    #Point to appropriate directory\n",
    "    if user_selection == 1:\n",
    "        AddHoliday(holiday_list)\n",
    "    elif user_selection == 2:\n",
    "        RemoveHoliday(holiday_list)\n",
    "    elif user_selection == 3:\n",
    "        SaveHolidayList(holiday_list)\n",
    "#     elif user_selection == 4:\n",
    "#         SaveChanges(name_of_tournament)\n",
    "#     elif user_selection == 5:\n",
    "#         Exit(name_of_tournament)\n"
   ]
  },
  {
   "cell_type": "code",
   "execution_count": 24,
   "id": "c3a5faf5",
   "metadata": {},
   "outputs": [],
   "source": [
    "#UI Add Holiday\n",
    "##\n",
    "def AddHoliday(holiday_list):\n",
    "    #Print welcome message\n",
    "    print(f'''\n",
    "        Add a Holiday\n",
    "        ==============\n",
    "    ''')\n",
    "    #Gather Holiday name from user\n",
    "    holiday_name = str(input(\"Holiday: \"))\n",
    "    #Gather Holiday date from user and ensure datetime\n",
    "    incorrect_form = True\n",
    "    while incorrect_form:\n",
    "        try:\n",
    "            testdate = input('Enter date (YYYY-MM-DD): ')\n",
    "            date_format = '%Y-%m-%d'\n",
    "            date = datetime.strptime(testdate, date_format).date()\n",
    "        except ValueError:\n",
    "            print('Invalid date. Please try again.')\n",
    "        else:\n",
    "            incorrect_form = False\n",
    "            #Check if Holiday already exists in list\n",
    "            found_holiday = holiday_list.findHoliday(holiday_name, date)\n",
    "            #If exists, let user know\n",
    "            if isinstance(found_holiday, Holiday):\n",
    "                print(f'''\n",
    "                    Error:\n",
    "                    {holiday_name} already exists.\n",
    "                ''')\n",
    "            #If not found, addHoliday\n",
    "            elif found_holiday == None:\n",
    "                holiday_object = Holiday(holiday_name, date)\n",
    "                holiday_list.addHoliday(holiday_object)\n",
    "            \n",
    "    #MainMenu()"
   ]
  },
  {
   "cell_type": "code",
   "execution_count": 25,
   "id": "72bad657",
   "metadata": {},
   "outputs": [],
   "source": [
    "#UI Remove Holiday\n",
    "##\n",
    "def RemoveHoliday(holiday_list):\n",
    "    #Print welcome message\n",
    "    print(f'''\n",
    "        Remove a Holiday\n",
    "        =================\n",
    "    ''')\n",
    "    holiday_not_in_list = True\n",
    "    while holiday_not_in_list:\n",
    "        #Gather holiday name from user\n",
    "        holiday_name = str(input('Holiday Name: '))\n",
    "        #Gather Holiday date from user and ensure datetime\n",
    "        incorrect_form = True\n",
    "        while incorrect_form:\n",
    "            try:\n",
    "                testdate = input('Enter date (YYYY-MM-DD): ')\n",
    "                date_format = '%Y-%m-%d'\n",
    "                date = datetime.strptime(testdate, date_format).date()\n",
    "            except ValueError:\n",
    "                print('Invalid date. Please try again.')\n",
    "            else:\n",
    "                incorrect_form = False\n",
    "    \n",
    "        #Check if holiday_name is in list\n",
    "        found_holiday = holiday_list.findHoliday(holiday_name, date)\n",
    "        if isinstance(found_holiday, Holiday):\n",
    "            holiday_not_in_list = False\n",
    "            holiday_list.removeHoliday(holiday_name, date)\n",
    "        elif found_holiday == None:\n",
    "            print(f'''\n",
    "                Error:\n",
    "                {holiday_name} not found.\n",
    "            ''')\n",
    "    \n",
    "    \n",
    "    #MainMenu()"
   ]
  },
  {
   "cell_type": "code",
   "execution_count": 26,
   "id": "71db05c9",
   "metadata": {},
   "outputs": [],
   "source": [
    "#UI Save Holiday List\n",
    "##\n",
    "def SaveHolidayList(holiday_list):\n",
    "    #Print welcome message\n",
    "    print(f'''\n",
    "        Save Holiday List\n",
    "        ===================\n",
    "    ''')\n",
    "    #User save input\n",
    "    user_save = str(input('Are you sure you want to save your changes? [y/n]: ')).lower()\n",
    "    #Check user response\n",
    "    if user_save == 'n':\n",
    "        print('''\n",
    "            Cancelled:\n",
    "            Holiday list file save cancelled.\n",
    "        ''')\n",
    "    elif user_save == 'y':\n",
    "        #Save list\n",
    "        holiday_list.save_to_json(jsonlocation)\n",
    "        print('''\n",
    "            Success:\n",
    "            Your Changes have been saved\n",
    "        ''')\n",
    "    \n",
    "    \n",
    "    #MainMenu()"
   ]
  },
  {
   "cell_type": "code",
   "execution_count": 27,
   "id": "2e08d09e",
   "metadata": {},
   "outputs": [],
   "source": [
    "#UI View Holidays\n",
    "\n",
    "def ViewHolidays(holiday_list):\n",
    "    #Print welcome message\n",
    "    print(f'''\n",
    "        View Holidays\n",
    "        ==============\n",
    "    ''')\n",
    "    #User save input\n",
    "    holiday_year = int(input('Which year?: '))\n",
    "    #Ensure year is within [current year-2, current_year+2]\n",
    "    holiday_week = input('Which week? #[1-52, Leave blank for the current week]: ')\n",
    "    #Print holidays in week\n",
    "    if holiday_week == '':\n",
    "        print(f'These are the holidays for this week:')\n",
    "        holiday_list.viewCurrentWeek()\n",
    "        \n",
    "    else:\n",
    "        holiday_week = int(holiday_week)\n",
    "        print(f'These are the holidays for {holiday_year} week#{holiday_week}:')\n",
    "        holiday_list.displayHolidaysInWeek(holiday_year, holiday_week)\n",
    "        \n",
    "    \n",
    "    #holiday_list.findHoliday(name, date)\n",
    "    \n",
    "    \n",
    "    #MainMenu()"
   ]
  },
  {
   "cell_type": "code",
   "execution_count": 28,
   "id": "7a112631",
   "metadata": {},
   "outputs": [],
   "source": [
    "#Initiate holiday_list instance\n",
    "a_holiday_list = HolidayList()"
   ]
  },
  {
   "cell_type": "code",
   "execution_count": 29,
   "id": "57f91799",
   "metadata": {},
   "outputs": [
    {
     "name": "stdout",
     "output_type": "stream",
     "text": [
      "Success: Margaret Thatcher Day (2021-01-10)  has been added to the holiday list.\n",
      "Success: World Sketchnote Day (2021-01-11)  has been added to the holiday list.\n",
      "Success: Zanzibar Revolution Day (2021-01-12)  has been added to the holiday list.\n",
      "Success: National Rubber Ducky Day (2021-01-13)  has been added to the holiday list.\n",
      "Success: Tamil Thai Pongdal Day (2021-01-14)  has been added to the holiday list.\n",
      "Success: National Bagel Day (2021-01-15)  has been added to the holiday list.\n",
      "Success: Signing of the Peace Accords (2021-01-16)  has been added to the holiday list.\n",
      "Success: Christmas Day (2022-12-25)  has been added to the holiday list.\n"
     ]
    }
   ],
   "source": [
    "a_holiday_list.read_json(jsonlocation)"
   ]
  },
  {
   "cell_type": "code",
   "execution_count": 30,
   "id": "1fc3d7d3",
   "metadata": {},
   "outputs": [
    {
     "name": "stdout",
     "output_type": "stream",
     "text": [
      "\n",
      "        Add a Holiday\n",
      "        ==============\n",
      "    \n",
      "Holiday: Christian Day\n",
      "Enter date (YYYY-MM-DD): 2022-07-10\n",
      "Success: Christian Day (2022-07-10)  has been added to the holiday list.\n"
     ]
    }
   ],
   "source": [
    "#Add holiday to holiday_list\n",
    "AddHoliday(a_holiday_list)"
   ]
  },
  {
   "cell_type": "code",
   "execution_count": 14,
   "id": "74b272a1",
   "metadata": {},
   "outputs": [
    {
     "name": "stdout",
     "output_type": "stream",
     "text": [
      "[Holiday(name='Margaret Thatcher Day', date=datetime.date(2021, 1, 10)), Holiday(name='World Sketchnote Day', date=datetime.date(2021, 1, 11)), Holiday(name='Zanzibar Revolution Day', date=datetime.date(2021, 1, 12)), Holiday(name='National Rubber Ducky Day', date=datetime.date(2021, 1, 13)), Holiday(name='Tamil Thai Pongdal Day', date=datetime.date(2021, 1, 14)), Holiday(name='National Bagel Day', date=datetime.date(2021, 1, 15)), Holiday(name='Signing of the Peace Accords', date=datetime.date(2021, 1, 16)), Holiday(name='Christmas Day', date=datetime.date(2022, 12, 25)), Holiday(name=\"New Year's Day\", date=datetime.date(2022, 1, 1)), Holiday(name='Christian Day', date=datetime.date(2022, 7, 10))]\n"
     ]
    }
   ],
   "source": [
    "print(a_holiday_list.innerHolidays)"
   ]
  },
  {
   "cell_type": "code",
   "execution_count": 32,
   "id": "1623ceff",
   "metadata": {},
   "outputs": [
    {
     "name": "stdout",
     "output_type": "stream",
     "text": [
      "\n",
      "        View Holidays\n",
      "        ==============\n",
      "    \n",
      "Which year?: 2021\n",
      "Which week? #[1-52, Leave blank for the current week]: 2\n",
      "These are the holidays for 2021 week#2:\n",
      "World Sketchnote Day (2021-01-11) \n",
      "Zanzibar Revolution Day (2021-01-12) \n",
      "National Rubber Ducky Day (2021-01-13) \n",
      "Tamil Thai Pongdal Day (2021-01-14) \n",
      "National Bagel Day (2021-01-15) \n",
      "Signing of the Peace Accords (2021-01-16) \n"
     ]
    }
   ],
   "source": [
    "ViewHolidays(a_holiday_list)"
   ]
  },
  {
   "cell_type": "code",
   "execution_count": 12,
   "id": "ffd95c8f",
   "metadata": {},
   "outputs": [
    {
     "data": {
      "text/plain": [
       "[Holiday(name='World Sketchnote Day', date=datetime.date(2021, 1, 11)),\n",
       " Holiday(name='Zanzibar Revolution Day', date=datetime.date(2021, 1, 12)),\n",
       " Holiday(name='National Rubber Ducky Day', date=datetime.date(2021, 1, 13)),\n",
       " Holiday(name='Tamil Thai Pongdal Day', date=datetime.date(2021, 1, 14)),\n",
       " Holiday(name='National Bagel Day', date=datetime.date(2021, 1, 15)),\n",
       " Holiday(name='Signing of the Peace Accords', date=datetime.date(2021, 1, 16))]"
      ]
     },
     "execution_count": 12,
     "metadata": {},
     "output_type": "execute_result"
    }
   ],
   "source": [
    "a_holiday_list.filter_holidays_by_week(2021, 2)"
   ]
  },
  {
   "cell_type": "code",
   "execution_count": 11,
   "id": "232a2878",
   "metadata": {},
   "outputs": [],
   "source": [
    "#Create a dict from HolidayList obj\n",
    "\n",
    "holiday_dict_list= {\"holidays\" : []}\n",
    "#print(type(holiday_dict_list['holidays']))\n",
    "#print(a_holiday_list.innerHolidays[0])\n",
    "\n",
    "for holiday in a_holiday_list.innerHolidays:\n",
    "    holiday_name = holiday.name\n",
    "    holidate = holiday.date\n",
    "    date_format = '%Y-%m-%d'\n",
    "    date = datetime.strftime(holidate, date_format)\n",
    "    holiday_dict = {'name': holiday_name, 'date': date}\n",
    "    holiday_dict_list['holidays'].append(holiday_dict)\n",
    "    #holidayobj = Holiday(holiday_name, date)\n",
    "    #a_holiday_list.addHoliday(holidayobj)\n",
    "    \n",
    "\n",
    "#json_test = json.dumps(a_holiday_list.innerHolidays)\n",
    "#print(json_test)"
   ]
  },
  {
   "cell_type": "code",
   "execution_count": 11,
   "id": "50b3dc75",
   "metadata": {},
   "outputs": [],
   "source": []
  },
  {
   "cell_type": "code",
   "execution_count": 17,
   "id": "777becfd",
   "metadata": {},
   "outputs": [
    {
     "name": "stdout",
     "output_type": "stream",
     "text": [
      "2021-01-10\n"
     ]
    }
   ],
   "source": [
    "first_in_list = data['holidays'][0]\n",
    "unformatted_date = first_in_list['date']\n",
    "date_format = '%Y-%m-%d'\n",
    "date = datetime.strptime(unformatted_date, date_format).date()\n",
    "print(date)"
   ]
  },
  {
   "cell_type": "code",
   "execution_count": 14,
   "id": "db458480",
   "metadata": {},
   "outputs": [
    {
     "name": "stdout",
     "output_type": "stream",
     "text": [
      "{\"holidays\": [{\"name\": \"Margaret Thatcher Day\", \"date\": \"2021-01-10\"}, {\"name\": \"World Sketchnote Day\", \"date\": \"2021-01-11\"}, {\"name\": \"Zanzibar Revolution Day\", \"date\": \"2021-01-12\"}, {\"name\": \"National Rubber Ducky Day\", \"date\": \"2021-01-13\"}, {\"name\": \"Tamil Thai Pongdal Day\", \"date\": \"2021-01-14\"}, {\"name\": \"National Bagel Day\", \"date\": \"2021-01-15\"}, {\"name\": \"Signing of the Peace Accords\", \"date\": \"2021-01-16\"}, {\"name\": \"Christmas Day\", \"date\": \"2022-12-25\"}]}\n"
     ]
    }
   ],
   "source": [
    "json_test = json.dumps(holiday_dict_list)\n",
    "print(json_test)"
   ]
  },
  {
   "cell_type": "code",
   "execution_count": 58,
   "id": "3eced535",
   "metadata": {},
   "outputs": [
    {
     "name": "stdout",
     "output_type": "stream",
     "text": [
      "\n",
      "        Remove a Holiday\n",
      "        =================\n",
      "    \n",
      "Holiday Name: St Patties Day\n",
      "Enter date (YYYY-MM-DD): 2022-03-17\n",
      "\n",
      "                Error:\n",
      "                St Patties Day not found.\n",
      "            \n",
      "Holiday Name: New Year's Day\n",
      "Enter date (YYYY-MM-DD): 2022-01-01\n",
      "\n",
      "            Success:\n",
      "            New Year's Day has been removed from the list.\n",
      "        \n"
     ]
    }
   ],
   "source": [
    "#Remove holiday from holiday list\n",
    "RemoveHoliday(a_holiday_list)"
   ]
  },
  {
   "cell_type": "code",
   "execution_count": 20,
   "id": "bf2a0dc8",
   "metadata": {},
   "outputs": [
    {
     "name": "stdout",
     "output_type": "stream",
     "text": [
      "Christmas Day (2022-12-25) \n"
     ]
    }
   ],
   "source": []
  },
  {
   "cell_type": "code",
   "execution_count": 42,
   "id": "687bb992",
   "metadata": {},
   "outputs": [
    {
     "name": "stdout",
     "output_type": "stream",
     "text": [
      "[Holiday(name='Margaret Thatcher Day', date=datetime.date(2021, 1, 10)), Holiday(name='World Sketchnote Day', date=datetime.date(2021, 1, 11)), Holiday(name='Zanzibar Revolution Day', date=datetime.date(2021, 1, 12)), Holiday(name='National Rubber Ducky Day', date=datetime.date(2021, 1, 13)), Holiday(name='Tamil Thai Pongdal Day', date=datetime.date(2021, 1, 14)), Holiday(name='National Bagel Day', date=datetime.date(2021, 1, 15)), Holiday(name='Signing of the Peace Accords', date=datetime.date(2021, 1, 16)), Holiday(name='Christmas Day', date=datetime.date(2022, 12, 25)), Holiday(name=\"New Year's Day\", date=datetime.date(2022, 1, 1))]\n"
     ]
    }
   ],
   "source": [
    "print(a_holiday_list.innerHolidays)"
   ]
  },
  {
   "cell_type": "code",
   "execution_count": 24,
   "id": "8406fda3",
   "metadata": {},
   "outputs": [
    {
     "name": "stdout",
     "output_type": "stream",
     "text": [
      "\n",
      "        Add a Holiday\n",
      "        ==============\n",
      "    \n",
      "Holiday: Christmas Day\n",
      "Enter date (YYYY-MM-DD): 2022-12-25\n",
      "\n",
      "                    Error:\n",
      "                    Christmas Day already exists.\n",
      "                \n"
     ]
    }
   ],
   "source": [
    "AddHoliday(a_holiday_list)"
   ]
  },
  {
   "cell_type": "code",
   "execution_count": 17,
   "id": "1a9126c2",
   "metadata": {},
   "outputs": [
    {
     "data": {
      "text/plain": [
       "[Holiday(name='Christmas Day', date=datetime.date(2022, 12, 25))]"
      ]
     },
     "execution_count": 17,
     "metadata": {},
     "output_type": "execute_result"
    }
   ],
   "source": [
    "[x for x in a_holiday_list.innerHolidays if x.name == \"Christmas Day\" and x.date == datetime(2022, 12, 25).date()]"
   ]
  },
  {
   "cell_type": "code",
   "execution_count": null,
   "id": "f11fd1ef",
   "metadata": {},
   "outputs": [],
   "source": [
    "\n",
    "def main():\n",
    "    # Large Pseudo Code steps\n",
    "    # -------------------------------------\n",
    "    # 1. Initialize HolidayList Object\n",
    "    holiday_list = HolidayList()\n",
    "    # 2. Load JSON file via HolidayList read_json function\n",
    "    holiday_list.read_json(jsonlocation)\n",
    "    # 3. Scrape additional holidays using your HolidayList scrapeHolidays function.\n",
    "    # 3. Create while loop for user to keep adding or working with the Calender\n",
    "    # 4. Display User Menu (Print the menu)\n",
    "    # 5. Take user input for their action based on Menu and check the user input for errors\n",
    "    # 6. Run appropriate method from the HolidayList object depending on what the user input is\n",
    "    # 7. Ask the User if they would like to Continue, if not, end the while loop, ending the program.  If they do wish to continue, keep the program going. \n",
    "\n"
   ]
  },
  {
   "cell_type": "code",
   "execution_count": 55,
   "id": "2b0f7628",
   "metadata": {},
   "outputs": [],
   "source": []
  },
  {
   "cell_type": "code",
   "execution_count": 10,
   "id": "bce9a9fc",
   "metadata": {},
   "outputs": [],
   "source": []
  },
  {
   "cell_type": "code",
   "execution_count": 11,
   "id": "6d09599c",
   "metadata": {},
   "outputs": [
    {
     "name": "stdout",
     "output_type": "stream",
     "text": [
      "\n",
      "        Save Holiday List\n",
      "        ===================\n",
      "    \n",
      "Are you sure you want to save your changes? [y/n]: y\n",
      "\n",
      "            Success:\n",
      "            Your Changes have been saved\n",
      "        \n"
     ]
    }
   ],
   "source": [
    "SaveHolidayList(a_holiday_list)"
   ]
  },
  {
   "cell_type": "code",
   "execution_count": 13,
   "id": "f3e3d2bc",
   "metadata": {},
   "outputs": [
    {
     "name": "stdout",
     "output_type": "stream",
     "text": [
      "Which week? #[1-52, Leave blank for the current week]: \n"
     ]
    }
   ],
   "source": [
    "holiday_week = input('Which week? #[1-52, Leave blank for the current week]: ')"
   ]
  },
  {
   "cell_type": "code",
   "execution_count": 14,
   "id": "92b39705",
   "metadata": {},
   "outputs": [
    {
     "data": {
      "text/plain": [
       "str"
      ]
     },
     "execution_count": 14,
     "metadata": {},
     "output_type": "execute_result"
    }
   ],
   "source": [
    "type(holiday_week)"
   ]
  },
  {
   "cell_type": "code",
   "execution_count": null,
   "id": "b4d5e162",
   "metadata": {},
   "outputs": [],
   "source": [
    "#UI Exit\n",
    "\n",
    "def Exit():\n",
    "    #Print welcome message\n",
    "    print(f'''\n",
    "        Exit\n",
    "        =====\n",
    "    ''')\n",
    "    #User exit input\n",
    "    if changes_to_be_saved == True:\n",
    "        user_exit = str(input('Are you sure you want to exit? [y/n]: ')).lower()\n",
    "    elif changes_to_be_saved == False:\n",
    "        user_exit = str(input('''\n",
    "            Are you sure you want to exit?\n",
    "            Your changes will be lost.\n",
    "            [y/n]: \n",
    "            ''')).lower()\n",
    "    \n",
    "    if user_exit == 'y':\n",
    "        break\n",
    "    elif user_exit == 'n':\n",
    "        MainMenu()\n",
    "    "
   ]
  }
 ],
 "metadata": {
  "kernelspec": {
   "display_name": "Python 3 (ipykernel)",
   "language": "python",
   "name": "python3"
  },
  "language_info": {
   "codemirror_mode": {
    "name": "ipython",
    "version": 3
   },
   "file_extension": ".py",
   "mimetype": "text/x-python",
   "name": "python",
   "nbconvert_exporter": "python",
   "pygments_lexer": "ipython3",
   "version": "3.9.12"
  }
 },
 "nbformat": 4,
 "nbformat_minor": 5
}
