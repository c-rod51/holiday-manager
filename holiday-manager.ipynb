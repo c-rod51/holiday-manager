{
 "cells": [
  {
   "cell_type": "markdown",
   "id": "9d4285d0",
   "metadata": {},
   "source": [
    "# Holiday Manager\n",
    "\n",
    "## Pseudocode\n",
    "We are looking to create an application which manages holidays. Before we begin with the application, we will pre-load the holidays from https://www.timeanddate.com/holidays/us/2022?hol=33554809 into a JSON file along with the pre-loaded holidays already loaded in the JSON file.\n",
    "\n",
    "With the holidays approaching, the marketing person may want to know what the weather looks like so they can determine what to market more. Use a weather API (e.g. [Open Weather Map API](https://rapidapi.com/community/api/open-weather-map)) to show what the weather looks like for the current period (more in the UI explanation below).\n",
    "\n",
    "**Start Up**\n",
    "* Display welcome message/UI info\n",
    "* Display number of holidays stored in the system (e.g. JSON file)\n",
    "\n",
    "**Main Menu**\n",
    "* Display message Holiday menu\n",
    "* Allow user to choose from:\n",
    "> 1. Add a Holiday\n",
    "> 2. Remove a Holiday\n",
    "> 3. Save Holiday List\n",
    "> 4. View Holidays\n",
    "> 5. Exit\n",
    "\n",
    "**Add a Holiday**\n",
    "* Display Add a Holiday\n",
    "* Prompt the user for Holiday name and Date\n",
    "> * If date is typed incorrectly (i.e. doesn't fit into ISO 8601 YYYY-MM-DD), display error message 'Invalid date' and reprompt\n",
    "> * If date is typed correctly, display success message '... has been added to list' and add holiday to list\n",
    "\n",
    "**Remove a Holiday**\n",
    "* Display Remove a Holiday\n",
    "* Prompt user for Holiday Name\n",
    "> * If user inputs a holiday not in file, display error message 'HolidayName not found' and reprompt\n",
    "> * If user inputs holiday in file, display success message and remove from holiday list\n",
    "\n",
    "**Save Holiday List**\n",
    "* Display Save Holiday List\n",
    "* Prompt user if they want to save their changes\n",
    "> * If no, do not save and display canceled message 'Holiday list file save cancelled'\n",
    "> * If yes, save holiday list to JSON and display success message 'Changes saved'\n",
    "\n",
    "**View Holidays**\n",
    "* Display View Holidays\n",
    "* Prompt user for year\n",
    "* Prompt user for week#, leave blank if current week\n",
    "> * if week# blank, prompt user if they would like to see this week's weather\n",
    "> * Display holidays for selected week and weather (if applies) using lambda expression\n",
    "\n",
    "**Exit**\n",
    "* Display exit \n",
    "* Prompt user if they are sure they want to exit\n",
    "> * if yes, display 'Goodbye' and exit\n",
    "\n",
    "### Holidays\n",
    "We'll gather all the holidays and store in JSON.\n",
    "* Make sure to represent holidays as objects in Python\n",
    "* The List of Holidays should be represented as an object in Python\n",
    "* The holiday class should include a way to display a holiday in the following format: `HolidayName (Date)`"
   ]
  },
  {
   "cell_type": "code",
   "execution_count": 1,
   "id": "4a42f60c",
   "metadata": {},
   "outputs": [],
   "source": [
    "from datetime import datetime\n",
    "import json\n",
    "from bs4 import BeautifulSoup\n",
    "import requests\n",
    "from dataclasses import dataclass\n",
    "import inspect"
   ]
  },
  {
   "cell_type": "code",
   "execution_count": null,
   "id": "74895269",
   "metadata": {},
   "outputs": [],
   "source": [
    "incorrect_form = True\n",
    "while incorrect_form:\n",
    "    try:\n",
    "        testdate = input('Enter date (YYYY-MM-DD): ')\n",
    "        date_format = '%Y-%m-%d'\n",
    "        date = datetime.strptime(testdate, date_format).date()\n",
    "    except ValueError:\n",
    "        print('That is not the correct format, please try again.')\n",
    "    else:\n",
    "        incorrect_form = False\n",
    "        print(date)"
   ]
  },
  {
   "cell_type": "code",
   "execution_count": 2,
   "id": "8c5cb71f",
   "metadata": {},
   "outputs": [],
   "source": [
    "##\n",
    "@dataclass\n",
    "class Holiday:\n",
    "    name: str\n",
    "    date: datetime\n",
    "        \n",
    "    def __str__ (self):\n",
    "        # String output\n",
    "        date_format = '%Y-%m-%d'\n",
    "        date_str = datetime.strftime(self.date, date_format)\n",
    "        # Holiday output when printed.\n",
    "        return '%s (%s) ' % (self.name, date_str)"
   ]
  },
  {
   "cell_type": "code",
   "execution_count": null,
   "id": "c1e09a85",
   "metadata": {},
   "outputs": [],
   "source": [
    "# -------------------------------------------\n",
    "# Modify the holiday class to \n",
    "# 1. Only accept Datetime objects for date.\n",
    "# 2. You may need to add additional functions\n",
    "# 3. You may drop the init if you are using @dataclasses\n",
    "# --------------------------------------------\n",
    "class Holiday:\n",
    "      \n",
    "    def __init__(self, name, date):\n",
    "        #assign values\n",
    "        self.__name = name\n",
    "        self.__date = date\n",
    "        \n",
    "    @property\n",
    "    def name(self):\n",
    "        return self.__name\n",
    "    \n",
    "    @name.setter\n",
    "    def name(self, new_name):\n",
    "        self.__name = new_name\n",
    "        \n",
    "    @property\n",
    "    def date(self):\n",
    "        return self.__date\n",
    "    \n",
    "    @date.setter\n",
    "    def date(self, new_date):\n",
    "        self.__date = new_date\n",
    "    \n",
    "    def __str__ (self):\n",
    "        # String output\n",
    "        # Holiday output when printed.\n",
    "        #str_date = date.strftime('%Y-%m-%d')\n",
    "        return '%s (%s)' % (self.__name, self.__date)"
   ]
  },
  {
   "cell_type": "code",
   "execution_count": 3,
   "id": "96526b20",
   "metadata": {},
   "outputs": [],
   "source": [
    "test_holiday = Holiday(\"New Year's Day\", \"2022-12-25\")\n",
    "test_holiday2 = Holiday(\"Christmas Day\", \"2022-12-25\")"
   ]
  },
  {
   "cell_type": "code",
   "execution_count": 7,
   "id": "39f84bba",
   "metadata": {},
   "outputs": [
    {
     "data": {
      "text/plain": [
       "True"
      ]
     },
     "execution_count": 7,
     "metadata": {},
     "output_type": "execute_result"
    }
   ],
   "source": [
    "isinstance(test_holiday, Holiday)"
   ]
  },
  {
   "cell_type": "code",
   "execution_count": 34,
   "id": "b5fe6764",
   "metadata": {},
   "outputs": [],
   "source": [
    "# -------------------------------------------\n",
    "# The HolidayList class acts as a wrapper and container\n",
    "# For the list of holidays\n",
    "# Each method has pseudo-code instructions\n",
    "# --------------------------------------------\n",
    "class HolidayList:\n",
    "    def __init__(self):\n",
    "        self.innerHolidays = []\n",
    "   \n",
    "    def addHoliday(self, holidayObj):\n",
    "        # Make sure holidayObj is an Holiday Object by checking the type\n",
    "        if isinstance(holidayObj, Holiday):\n",
    "            # Use innerHolidays.append(holidayObj) to add holiday\n",
    "            self.innerHolidays.append(holidayObj)\n",
    "            # print to the user that you added a holiday\n",
    "            print(f'Success: {holidayObj} has been added to the holiday list.')\n",
    "        else:\n",
    "            print('Error: Please try again.')\n",
    "\n",
    "    def findHoliday(self, HolidayName, Date):\n",
    "        # Find Holiday in innerHolidays\n",
    "        found_holiday = [x for x in self.innerHolidays if x.name == HolidayName and x.date == Date]\n",
    "        # Return Holiday object\n",
    "        try:\n",
    "            found_hol_obj = found_holiday[0]\n",
    "        except IndexError:\n",
    "            found_hol_obj = None\n",
    "        return found_hol_obj\n",
    "\n",
    "    def removeHoliday(HolidayName, Date):\n",
    "        pass\n",
    "        # Find Holiday in innerHolidays by searching the name and date combination.\n",
    "        # remove the Holiday from innerHolidays\n",
    "        # inform user you deleted the holiday\n",
    "\n",
    "    def read_json(filelocation):\n",
    "        pass\n",
    "        # Read in things from json file location\n",
    "        # Use addHoliday function to add holidays to inner list.\n",
    "\n",
    "    def save_to_json(filelocation):\n",
    "        pass\n",
    "        # Write out json file to selected file.\n",
    "        \n",
    "    def scrapeHolidays():\n",
    "        pass\n",
    "        # Scrape Holidays from https://www.timeanddate.com/holidays/us/ \n",
    "        # 2 previous years, current year, and 2  years into the future.\n",
    "        # Scrape multiple years by adding year to the timeanddate URL e.g. https://www.timeanddate.com/holidays/us/2022\n",
    "        # Check to see if name and date of holiday is in innerHolidays array\n",
    "        # Add non-duplicates to innerHolidays\n",
    "        # Handle any exceptions.     \n",
    "\n",
    "    def numHolidays():\n",
    "        pass\n",
    "        # Return the total number of holidays in innerHolidays\n",
    "    \n",
    "    def filter_holidays_by_week(year, week_number):\n",
    "        pass\n",
    "        # Use a Lambda function to filter by week number and save this as holidays, use the filter on innerHolidays\n",
    "        # Week number is part of the Datetime object\n",
    "        # Cast filter results as list\n",
    "        # return your holidays\n",
    "\n",
    "    def displayHolidaysInWeek(holidayList):\n",
    "        pass\n",
    "        # Use your filter_holidays_by_week to get list of holidays within a week as a parameter\n",
    "        # Output formated holidays in the week. \n",
    "        # * Remember to use the holiday __str__ method.\n",
    "\n",
    "    def getWeather(weekNum):\n",
    "        pass\n",
    "        # Convert weekNum to range between two days\n",
    "        # Use Try / Except to catch problems\n",
    "        # Query API for weather in that week range\n",
    "        # Format weather information and return weather string.\n",
    "\n",
    "    def viewCurrentWeek():\n",
    "        pass\n",
    "        # Use the Datetime Module to look up current week and year\n",
    "        # Use your filter_holidays_by_week function to get the list of holidays \n",
    "        # for the current week/year\n",
    "        # Use your displayHolidaysInWeek function to display the holidays in the week\n",
    "        # Ask user if they want to get the weather\n",
    "        # If yes, use your getWeather function and display results"
   ]
  },
  {
   "cell_type": "code",
   "execution_count": 36,
   "id": "7a112631",
   "metadata": {},
   "outputs": [],
   "source": [
    "a_holiday_list = HolidayList()"
   ]
  },
  {
   "cell_type": "code",
   "execution_count": 37,
   "id": "1fc3d7d3",
   "metadata": {},
   "outputs": [
    {
     "name": "stdout",
     "output_type": "stream",
     "text": [
      "\n",
      "        Add a Holiday\n",
      "        ==============\n",
      "    \n",
      "Holiday: Christmas Day\n",
      "Enter date (YYYY-MM-DD): 2022-12-25\n",
      "Success: Christmas Day (2022-12-25)  has been added to the holiday list.\n"
     ]
    }
   ],
   "source": [
    "AddHoliday(a_holiday_list)"
   ]
  },
  {
   "cell_type": "code",
   "execution_count": 38,
   "id": "232a2878",
   "metadata": {},
   "outputs": [
    {
     "data": {
      "text/plain": [
       "NoneType"
      ]
     },
     "execution_count": 38,
     "metadata": {},
     "output_type": "execute_result"
    }
   ],
   "source": [
    "found_hol = a_holiday_list.findHoliday(\"St Patties Day\", datetime(2022, 12, 25).date())\n",
    "type(found_hol)"
   ]
  },
  {
   "cell_type": "code",
   "execution_count": 32,
   "id": "fc0469bb",
   "metadata": {},
   "outputs": [
    {
     "data": {
      "text/plain": [
       "'Christmas Day'"
      ]
     },
     "execution_count": 32,
     "metadata": {},
     "output_type": "execute_result"
    }
   ],
   "source": [
    "found_hol.name"
   ]
  },
  {
   "cell_type": "code",
   "execution_count": 27,
   "id": "bf2a0dc8",
   "metadata": {},
   "outputs": [
    {
     "name": "stdout",
     "output_type": "stream",
     "text": [
      "[]\n"
     ]
    }
   ],
   "source": [
    "print(a_holiday_list.innerHolidays)"
   ]
  },
  {
   "cell_type": "code",
   "execution_count": 13,
   "id": "687bb992",
   "metadata": {},
   "outputs": [
    {
     "data": {
      "text/plain": [
       "datetime.date"
      ]
     },
     "execution_count": 13,
     "metadata": {},
     "output_type": "execute_result"
    }
   ],
   "source": [
    "type(a_holiday_list.innerHolidays[0].date)"
   ]
  },
  {
   "cell_type": "code",
   "execution_count": 28,
   "id": "8406fda3",
   "metadata": {},
   "outputs": [
    {
     "data": {
      "text/plain": [
       "datetime.date(2022, 12, 25)"
      ]
     },
     "execution_count": 28,
     "metadata": {},
     "output_type": "execute_result"
    }
   ],
   "source": [
    "datetime(2022, 12, 25).date()"
   ]
  },
  {
   "cell_type": "code",
   "execution_count": 17,
   "id": "1a9126c2",
   "metadata": {},
   "outputs": [
    {
     "data": {
      "text/plain": [
       "[Holiday(name='Christmas Day', date=datetime.date(2022, 12, 25))]"
      ]
     },
     "execution_count": 17,
     "metadata": {},
     "output_type": "execute_result"
    }
   ],
   "source": [
    "[x for x in a_holiday_list.innerHolidays if x.name == \"Christmas Day\" and x.date == datetime(2022, 12, 25).date()]"
   ]
  },
  {
   "cell_type": "code",
   "execution_count": null,
   "id": "f11fd1ef",
   "metadata": {},
   "outputs": [],
   "source": [
    "\n",
    "def main():\n",
    "    # Large Pseudo Code steps\n",
    "    # -------------------------------------\n",
    "    # 1. Initialize HolidayList Object\n",
    "    holiday_list = HolidayList()\n",
    "    # 2. Load JSON file via HolidayList read_json function\n",
    "    # 3. Scrape additional holidays using your HolidayList scrapeHolidays function.\n",
    "    # 3. Create while loop for user to keep adding or working with the Calender\n",
    "    # 4. Display User Menu (Print the menu)\n",
    "    # 5. Take user input for their action based on Menu and check the user input for errors\n",
    "    # 6. Run appropriate method from the HolidayList object depending on what the user input is\n",
    "    # 7. Ask the User if they would like to Continue, if not, end the while loop, ending the program.  If they do wish to continue, keep the program going. \n",
    "\n"
   ]
  },
  {
   "cell_type": "code",
   "execution_count": null,
   "id": "7f045e3d",
   "metadata": {},
   "outputs": [],
   "source": [
    "#UI Start Up\n",
    "\n",
    "def StartUp():\n",
    "    print(f'''\n",
    "        Holiday Management\n",
    "        =================================\n",
    "    ''')\n",
    "    #Find number of holidays stored in system\n",
    "    #holiday_list = HolidayList().addHoliday().read_json()\n",
    "    #num_holidays = holiday_list.numHolidays()\n",
    "    \n",
    "    print(f'There are {num_holidays} holidays stored in the system')\n",
    "    MainMenu()"
   ]
  },
  {
   "cell_type": "code",
   "execution_count": 6,
   "id": "0b0c7ede",
   "metadata": {},
   "outputs": [],
   "source": [
    "##\n",
    "#UI Add Holiday\n",
    "\n",
    "def AddHoliday(holiday_list):\n",
    "    #Print welcome message\n",
    "    print(f'''\n",
    "        Add a Holiday\n",
    "        ==============\n",
    "    ''')\n",
    "    #Gather Holiday name from user\n",
    "    holiday_name = str(input(\"Holiday: \"))\n",
    "    #Gather Holiday date from user and ensure datetime\n",
    "    incorrect_form = True\n",
    "    while incorrect_form:\n",
    "        try:\n",
    "            testdate = input('Enter date (YYYY-MM-DD): ')\n",
    "            date_format = '%Y-%m-%d'\n",
    "            date = datetime.strptime(testdate, date_format).date()\n",
    "        except ValueError:\n",
    "            print('Invalid date. Please try again.')\n",
    "        else:\n",
    "            incorrect_form = False\n",
    "            holiday_object = Holiday(holiday_name, date)\n",
    "            holiday_list.addHoliday(holiday_object)\n",
    "            \n",
    "    #MainMenu()"
   ]
  },
  {
   "cell_type": "code",
   "execution_count": null,
   "id": "2b0f7628",
   "metadata": {},
   "outputs": [],
   "source": [
    "#UI Remove Holiday\n",
    "\n",
    "def RemoveHoliday(holiday_list):\n",
    "    #Print welcome message\n",
    "    print(f'''\n",
    "        Remove a Holiday\n",
    "        =================\n",
    "    ''')\n",
    "    #Gather holiday name from user\n",
    "    holiday_name = str(input('Holiday Name: '))\n",
    "    #Gather Holiday date from user and ensure datetime\n",
    "    incorrect_form = True\n",
    "    while incorrect_form:\n",
    "        try:\n",
    "            testdate = input('Enter date (YYYY-MM-DD): ')\n",
    "            date_format = '%Y-%m-%d'\n",
    "            date = datetime.strptime(testdate, date_format).date()\n",
    "        except ValueError:\n",
    "            print('Invalid date. Please try again.')\n",
    "        else:\n",
    "            incorrect_form = False\n",
    "    \n",
    "    #Check if holiday_name is in list\n",
    "    holiday_list.findHoliday(holiday_name, date)\n",
    "    #holiday_list.findHoliday(name, date)\n",
    "    \n",
    "    \n",
    "    MainMenu()"
   ]
  },
  {
   "cell_type": "code",
   "execution_count": null,
   "id": "bce9a9fc",
   "metadata": {},
   "outputs": [],
   "source": [
    "#UI Save Holiday List\n",
    "\n",
    "def SaveHolidayList():\n",
    "    #Print welcome message\n",
    "    print(f'''\n",
    "        Save Holiday List\n",
    "        ===================\n",
    "    ''')\n",
    "    #User save input\n",
    "    user_save = str(input('Are you sure you want to save your changes? [y/n]: ')).lower()\n",
    "    #Check user response\n",
    "    if user_save == 'n':\n",
    "        print('''\n",
    "            Cancelled:\n",
    "            Holiday list file save cancelled.\n",
    "        ''')\n",
    "    elif user_save == 'y':\n",
    "        #Save list\n",
    "        #holiday_list.save_to_json()\n",
    "        print('''\n",
    "            Success:\n",
    "            Your Changes have been saved\n",
    "        ''')\n",
    "    \n",
    "    #holiday_list.findHoliday(name, date)\n",
    "    \n",
    "    \n",
    "    MainMenu()"
   ]
  },
  {
   "cell_type": "code",
   "execution_count": null,
   "id": "dd9953e2",
   "metadata": {},
   "outputs": [],
   "source": [
    "#UI View Holidays\n",
    "\n",
    "def ViewHolidays():\n",
    "    #Print welcome message\n",
    "    print(f'''\n",
    "        View Holidays\n",
    "        ==============\n",
    "    ''')\n",
    "    #User save input\n",
    "    holiday_year = int(input('Which year?: '))\n",
    "    #Ensure year is within [current year-2, current_year+2]\n",
    "    holiday_week = input('Which week? #[1-52, Leave blank for the current week]: ')\n",
    "    #Check user response\n",
    "    if user_save == 'n':\n",
    "        print('''\n",
    "            Cancelled:\n",
    "            Holiday list file save cancelled.\n",
    "        ''')\n",
    "    elif user_save == 'y':\n",
    "        #Save list\n",
    "        #holiday_list.save_to_json()\n",
    "        print('''\n",
    "            Success:\n",
    "            Your Changes have been saved\n",
    "        ''')\n",
    "    \n",
    "    #holiday_list.findHoliday(name, date)\n",
    "    \n",
    "    \n",
    "    MainMenu()"
   ]
  },
  {
   "cell_type": "code",
   "execution_count": null,
   "id": "b4d5e162",
   "metadata": {},
   "outputs": [],
   "source": [
    "#UI Exit\n",
    "\n",
    "def Exit():\n",
    "    #Print welcome message\n",
    "    print(f'''\n",
    "        Exit\n",
    "        =====\n",
    "    ''')\n",
    "    #User exit input\n",
    "    if changes_to_be_saved == True:\n",
    "        user_exit = str(input('Are you sure you want to exit? [y/n]: ')).lower()\n",
    "    elif changes_to_be_saved == False:\n",
    "        user_exit = str(input('''\n",
    "            Are you sure you want to exit? \n",
    "            Your changes will be lost.\n",
    "            [y/n]: \n",
    "            ''')).lower()\n",
    "    \n",
    "    if user_exit == 'y':\n",
    "        break\n",
    "    elif user_exit == 'n':\n",
    "        MainMenu()\n",
    "    "
   ]
  }
 ],
 "metadata": {
  "kernelspec": {
   "display_name": "Python 3 (ipykernel)",
   "language": "python",
   "name": "python3"
  },
  "language_info": {
   "codemirror_mode": {
    "name": "ipython",
    "version": 3
   },
   "file_extension": ".py",
   "mimetype": "text/x-python",
   "name": "python",
   "nbconvert_exporter": "python",
   "pygments_lexer": "ipython3",
   "version": "3.9.12"
  }
 },
 "nbformat": 4,
 "nbformat_minor": 5
}
