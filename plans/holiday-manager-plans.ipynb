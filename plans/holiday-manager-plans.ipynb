{
 "cells": [
  {
   "cell_type": "markdown",
   "id": "086988b2",
   "metadata": {},
   "source": [
    "# Holiday Manager\n",
    "\n",
    "## Pseudocode\n",
    "We are looking to create an application which manages holidays. Before we begin with the application, we will pre-load the holidays from https://www.timeanddate.com/holidays/us/2022?hol=33554809 into a JSON file along with the pre-loaded holidays already loaded in the JSON file.\n",
    "\n",
    "With the holidays approaching, the marketing person may want to know what the weather looks like so they can determine what to market more. Use a weather API (e.g. [Open Weather Map API](https://rapidapi.com/community/api/open-weather-map)) to show what the weather looks like for the current period (more in the UI explanation below).\n",
    "\n",
    "**Start Up**\n",
    "* Display welcome message/UI info\n",
    "* Display number of holidays stored in the system (e.g. JSON file)\n",
    "\n",
    "**Main Menu**\n",
    "* Display message Holiday menu\n",
    "* Allow user to choose from:\n",
    "> 1. Add a Holiday\n",
    "> 2. Remove a Holiday\n",
    "> 3. Save Holiday List\n",
    "> 4. View Holidays\n",
    "> 5. Exit\n",
    "\n",
    "**Add a Holiday**\n",
    "* Display Add a Holiday\n",
    "* Prompt the user for Holiday name and Date\n",
    "> * If date is typed incorrectly (i.e. doesn't fit into ISO 8601 YYYY-MM-DD), display error message 'Invalid date' and reprompt\n",
    "> * If date is typed correctly, display success message '... has been added to list' and add holiday to list\n",
    "\n",
    "**Remove a Holiday**\n",
    "* Display Remove a Holiday\n",
    "* Prompt user for Holiday Name\n",
    "> * If user inputs a holiday not in file, display error message 'HolidayName not found' and reprompt\n",
    "> * If user inputs holiday in file, display success message and remove from holiday list\n",
    "\n",
    "**Save Holiday List**\n",
    "* Display Save Holiday List\n",
    "* Prompt user if they want to save their changes\n",
    "> * If no, do not save and display canceled message 'Holiday list file save cancelled'\n",
    "> * If yes, save holiday list to JSON and display success message 'Changes saved'\n",
    "\n",
    "**View Holidays**\n",
    "* Display View Holidays\n",
    "* Prompt user for year\n",
    "* Prompt user for week#, leave blank if current week\n",
    "> * if week# blank, prompt user if they would like to see this week's weather\n",
    "> * Display holidays for selected week and weather (if applies) using lambda expression\n",
    "\n",
    "**Exit**\n",
    "* Display exit \n",
    "* Prompt user if they are sure they want to exit\n",
    "> * if yes, display 'Goodbye' and exit\n",
    "\n",
    "### Holidays\n",
    "We'll gather all the holidays and store in JSON.\n",
    "* Make sure to represent holidays as objects in Python\n",
    "* The List of Holidays should be represented as an object in Python\n",
    "* The holiday class should include a way to display a holiday in the following format: `HolidayName (Date)`"
   ]
  },
  {
   "cell_type": "code",
   "execution_count": null,
   "id": "57642aef",
   "metadata": {},
   "outputs": [],
   "source": []
  }
 ],
 "metadata": {
  "kernelspec": {
   "display_name": "Python 3 (ipykernel)",
   "language": "python",
   "name": "python3"
  },
  "language_info": {
   "codemirror_mode": {
    "name": "ipython",
    "version": 3
   },
   "file_extension": ".py",
   "mimetype": "text/x-python",
   "name": "python",
   "nbconvert_exporter": "python",
   "pygments_lexer": "ipython3",
   "version": "3.9.12"
  }
 },
 "nbformat": 4,
 "nbformat_minor": 5
}
